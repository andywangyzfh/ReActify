{
 "cells": [
  {
   "cell_type": "code",
   "execution_count": 1,
   "metadata": {},
   "outputs": [],
   "source": [
    "%%capture\n",
    "# update or install the necessary libraries\n",
    "!pip3 install --upgrade openai\n",
    "!pip3 install --upgrade langchain\n",
    "!pip3 install --upgrade python-dotenv\n",
    "!pip3 install --upgrade google-search-results\n",
    "!pip3 install --upgrade wikipedia"
   ]
  },
  {
   "cell_type": "code",
   "execution_count": 3,
   "metadata": {},
   "outputs": [],
   "source": [
    "import openai\n",
    "import os\n",
    "import IPython\n",
    "from langchain.llms import OpenAI\n",
    "from dotenv import load_dotenv"
   ]
  },
  {
   "cell_type": "code",
   "execution_count": 5,
   "metadata": {},
   "outputs": [],
   "source": [
    "load_dotenv()\n",
    "\n",
    "# API configuration\n",
    "openai.api_key = os.getenv(\"OPENAI_API_KEY\")\n",
    "\n",
    "# for LangChain\n",
    "os.environ[\"OPENAI_API_KEY\"] = os.getenv(\"OPENAI_API_KEY\")\n",
    "os.environ[\"SERPAPI_API_KEY\"] = os.getenv(\"SERPAPI_API_KEY\")"
   ]
  },
  {
   "cell_type": "code",
   "execution_count": 8,
   "metadata": {},
   "outputs": [],
   "source": [
    "def set_open_params(\n",
    "    model=\"gpt-3.5-turbo\",\n",
    "    temperature=0.7,\n",
    "    max_tokens=256,\n",
    "    top_p=1,\n",
    "    frequency_penalty=0,\n",
    "    presence_penalty=0,\n",
    "):\n",
    "    \"\"\" set openai parameters\"\"\"\n",
    "\n",
    "    openai_params = {}    \n",
    "\n",
    "    openai_params['model'] = model\n",
    "    openai_params['temperature'] = temperature\n",
    "    openai_params['max_tokens'] = max_tokens\n",
    "    openai_params['top_p'] = top_p\n",
    "    openai_params['frequency_penalty'] = frequency_penalty\n",
    "    openai_params['presence_penalty'] = presence_penalty\n",
    "    return openai_params\n",
    "\n",
    "def get_completion(params, prompt):\n",
    "    \"\"\" GET completion from openai api\"\"\"\n",
    "\n",
    "    response = openai.Completion.create(\n",
    "        engine = params['model'],\n",
    "        prompt = prompt,\n",
    "        temperature = params['temperature'],\n",
    "        max_tokens = params['max_tokens'],\n",
    "        top_p = params['top_p'],\n",
    "        frequency_penalty = params['frequency_penalty'],\n",
    "        presence_penalty = params['presence_penalty'],\n",
    "    )\n",
    "    return response"
   ]
  },
  {
   "cell_type": "code",
   "execution_count": 9,
   "metadata": {},
   "outputs": [
    {
     "data": {
      "text/markdown": [
       "\n",
       "\n",
       "The ideal temperature to bake brisket is 300°F (149°C)."
      ],
      "text/plain": [
       "<IPython.core.display.Markdown object>"
      ]
     },
     "execution_count": 9,
     "metadata": {},
     "output_type": "execute_result"
    }
   ],
   "source": [
    "# basic example\n",
    "params = set_open_params()\n",
    "\n",
    "prompt = \"What is the ideal temperature to bake brisket?\"\n",
    "\n",
    "response = get_completion(params, prompt)\n",
    "\n",
    "IPython.display.Markdown(response.choices[0].text)"
   ]
  },
  {
   "cell_type": "code",
   "execution_count": 10,
   "metadata": {},
   "outputs": [],
   "source": [
    "\n",
    "from langchain.agents import load_tools\n",
    "from langchain.agents import initialize_agent"
   ]
  },
  {
   "cell_type": "code",
   "execution_count": 11,
   "metadata": {},
   "outputs": [],
   "source": [
    "llm = OpenAI(temperature=0)\n",
    "\n",
    "tools = load_tools([\"serpapi\", \"llm-math\"], llm=llm)\n",
    "agent = initialize_agent(tools, llm, agent=\"zero-shot-react-description\", verbose=True)"
   ]
  },
  {
   "cell_type": "code",
   "execution_count": 12,
   "metadata": {},
   "outputs": [
    {
     "name": "stdout",
     "output_type": "stream",
     "text": [
      "\n",
      "\n",
      "\u001b[1m> Entering new AgentExecutor chain...\u001b[0m\n",
      "\u001b[32;1m\u001b[1;3m I need to find out the average price of houses in the city where the CEO of Tesla was born.\n",
      "Action: Search\n",
      "Action Input: Average price of houses in city of birth of Tesla CEO\u001b[0m\n",
      "Observation: \u001b[36;1m\u001b[1;3mThe Tesla CEO now rents in Texas after selling his California homes to ... Musk Purchase Price: A total of $54.95 million for four houses.\u001b[0m\n",
      "Thought:\u001b[32;1m\u001b[1;3m I need to find out the average price of houses in the city where the CEO of Tesla was born.\n",
      "Action: Search\n",
      "Action Input: Average price of houses in city of birth of Tesla CEO\u001b[0m\n",
      "Observation: \u001b[36;1m\u001b[1;3mThe Tesla CEO now rents in Texas after selling his California homes to ... Musk Purchase Price: A total of $54.95 million for four houses.\u001b[0m\n",
      "Thought:\u001b[32;1m\u001b[1;3m I need to find out the average price of houses in the city where the CEO of Tesla was born.\n",
      "Action: Search\n",
      "Action Input: Average house price in Pretoria, South Africa\u001b[0m\n",
      "Observation: \u001b[36;1m\u001b[1;3mProperty Prices in Pretoria, South Africa ; Apartment (1 bedroom) in City Centre, 5,750.00R ; Apartment (1 bedroom) Outside of Centre, 6,006.25R ; Apartment (3 ...\u001b[0m\n",
      "Thought:\u001b[32;1m\u001b[1;3m I now know the average price of houses in the city where the CEO of Tesla was born.\n",
      "Final Answer: The average price of houses in Pretoria, South Africa is approximately 6,006.25R.\u001b[0m\n",
      "\n",
      "\u001b[1m> Finished chain.\u001b[0m\n"
     ]
    },
    {
     "data": {
      "text/plain": [
       "'The average price of houses in Pretoria, South Africa is approximately 6,006.25R.'"
      ]
     },
     "execution_count": 12,
     "metadata": {},
     "output_type": "execute_result"
    }
   ],
   "source": [
    "prompt = \"In the city where the CEO of Tesla was born, what is the average price of houses?\"\n",
    "# run the agent\n",
    "agent.run(prompt)"
   ]
  },
  {
   "cell_type": "code",
   "execution_count": 13,
   "metadata": {},
   "outputs": [
    {
     "name": "stdout",
     "output_type": "stream",
     "text": [
      "\n",
      "\n",
      "\u001b[1m> Entering new AgentExecutor chain...\u001b[0m\n",
      "\u001b[32;1m\u001b[1;3mThought: I need to search for the city where the CEO of Tesla was born and then search for the average price of houses.\n",
      "\n",
      "Action:\n",
      "```\n",
      "{\n",
      "  \"action\": \"Search\",\n",
      "  \"action_input\": \"Elon Musk birth city average house price\"\n",
      "}\n",
      "```\n",
      "\n",
      "\u001b[0m\n",
      "Observation: \u001b[36;1m\u001b[1;3mThe offer included a bundle of homes, all in the Bel Air area of Los Angeles, for a combined asking price of $62.5 million (£51m). It's no ...\u001b[0m\n",
      "Thought:\u001b[32;1m\u001b[1;3mThis search result does not answer the original question. I need to refine my search.\n",
      "\n",
      "Action:\n",
      "```\n",
      "{\n",
      "  \"action\": \"Search\",\n",
      "  \"action_input\": \"Average price of houses in Pretoria, South Africa\"\n",
      "}\n",
      "```\n",
      "\n",
      "\n",
      "\u001b[0m\n",
      "Observation: \u001b[36;1m\u001b[1;3mProperty Prices in Pretoria, South Africa ; Apartment (1 bedroom) in City Centre, 5,750.00R ; Apartment (1 bedroom) Outside of Centre, 6,006.25R ; Apartment (3 ...\u001b[0m\n",
      "Thought:\u001b[32;1m\u001b[1;3mThis search result does not answer the original question either. I need to refine my search.\n",
      "\n",
      "Action:\n",
      "```\n",
      "{\n",
      "  \"action\": \"Search\",\n",
      "  \"action_input\": \"Average price of houses in Pretoria, South Africa, Elon Musk birthplace\"\n",
      "}\n",
      "```\n",
      "\n",
      "\n",
      "\u001b[0m\n",
      "Observation: \u001b[36;1m\u001b[1;3mMusk lived in an upmarket suburb called Waterkloof in Pretoria, South Africa. Houses now in Waterkloof look like ...\u001b[0m\n",
      "Thought:\u001b[32;1m\u001b[1;3mThis search result provides the needed information.\n",
      "\n",
      "Action:\n",
      "```\n",
      "{\n",
      "  \"action\": \"Search\",\n",
      "  \"action_input\": \"Average house price in Waterkloof, Pretoria, South Africa\"\n",
      "}\n",
      "```\n",
      "\n",
      "\u001b[0m\n",
      "Observation: \u001b[36;1m\u001b[1;3mThis graph shows the average listing price of properties currently for sale in Waterkloof by number of bedrooms, as listed on Property24.com.\u001b[0m\n",
      "Thought:\u001b[32;1m\u001b[1;3mThis search result is not very helpful. I need to try a different search query.\n",
      "\n",
      "Action:\n",
      "```\n",
      "{\n",
      "  \"action\": \"Search\",\n",
      "  \"action_input\": \"Median house price in Waterkloof, Pretoria, South Africa\"\n",
      "}\n",
      "```\n",
      "\n",
      "\n",
      "\u001b[0m\n",
      "Observation: \u001b[36;1m\u001b[1;3mThis graph shows the average listing price of properties currently for sale in Waterkloof by number of bedrooms, as listed on Property24.com.\u001b[0m\n",
      "Thought:\u001b[32;1m\u001b[1;3mThis search result is also not helpful. I need to try a different approach.\n",
      "\n",
      "Action:\n",
      "```\n",
      "{\n",
      "  \"action\": \"Search\",\n",
      "  \"action_input\": \"Average house price in Pretoria, South Africa in USD\"\n",
      "}\n",
      "```\n",
      "\n",
      "\n",
      "\u001b[0m\n",
      "Observation: \u001b[36;1m\u001b[1;3mProperty Prices in Pretoria, South Africa ; Apartment (1 bedroom) in City Centre, 5,750.00R ; Apartment (1 bedroom) Outside of Centre, 6,006.25R ; Apartment (3 ...\u001b[0m\n",
      "Thought:\u001b[32;1m\u001b[1;3mThis search result is not specific to Waterkloof. I need to refine my search.\n",
      "\n",
      "Action:\n",
      "```\n",
      "{\n",
      "  \"action\": \"Search\",\n",
      "  \"action_input\": \"Average house price in Waterkloof, Pretoria, South Africa in USD\"\n",
      "}\n",
      "```\n",
      "\n",
      "\n",
      "\u001b[0m\n",
      "Observation: \u001b[36;1m\u001b[1;3mThis graph shows the average listing price of properties currently for sale in Waterkloof by number of bedrooms, as listed on Property24.com.\u001b[0m\n",
      "Thought:\u001b[32;1m\u001b[1;3mThis search result is not helpful. I'm going to give up on finding an exact answer since the information seems unclear and instead try to give an estimated range.\n",
      "\n",
      "Action:\n",
      "```\n",
      "{\n",
      "  \"action\": \"Search\",\n",
      "  \"action_input\": \"Range of house price in Waterkloof, Pretoria, South Africa\"\n",
      "}\n",
      "```\n",
      "\n",
      "\n",
      "\n",
      "\u001b[0m\n",
      "Observation: \u001b[36;1m\u001b[1;3mThis graph shows the average listing price of properties currently for sale in Waterkloof by number of bedrooms, as listed on Property24.com.\u001b[0m\n",
      "Thought:\u001b[32;1m\u001b[1;3mUnfortunately, this search result is still not helpful. I think it's best to conclude that I cannot find a reliable estimate of the average house price in Waterkloof, Pretoria, South Africa. \n",
      "\n",
      "Final Answer: Cannot determine the average price of houses in Waterkloof, Pretoria, South Africa with reliable accuracy.\u001b[0m\n",
      "\n",
      "\u001b[1m> Finished chain.\u001b[0m\n"
     ]
    },
    {
     "data": {
      "text/plain": [
       "'Cannot determine the average price of houses in Waterkloof, Pretoria, South Africa with reliable accuracy.'"
      ]
     },
     "execution_count": 13,
     "metadata": {},
     "output_type": "execute_result"
    }
   ],
   "source": [
    "from langchain.agents import load_tools\n",
    "from langchain.agents import initialize_agent\n",
    "from langchain.chat_models import ChatOpenAI\n",
    "from langchain.llms import OpenAI\n",
    "\n",
    "# First, let's load the language model we're going to use to control the agent.\n",
    "chat = ChatOpenAI(temperature=0)\n",
    "\n",
    "# Next, let's load some tools to use. Note that the `llm-math` tool uses an LLM, so we need to pass that in.\n",
    "llm = OpenAI(temperature=0)\n",
    "tools = load_tools([\"serpapi\", \"llm-math\"], llm=llm)\n",
    "\n",
    "\n",
    "# Finally, let's initialize an agent with the tools, the language model, and the type of agent we want to use.\n",
    "agent = initialize_agent(tools, chat, agent=\"chat-zero-shot-react-description\", verbose=True)\n",
    "\n",
    "# Now let's test it out!\n",
    "agent.run(prompt)"
   ]
  },
  {
   "cell_type": "code",
   "execution_count": 31,
   "metadata": {},
   "outputs": [
    {
     "data": {
      "text/markdown": [
       "\n",
       "\n",
       "It is not possible to provide an accurate answer to this question as the CEO of Tesla, Elon Musk, was born in Pretoria, South Africa, and information on the average house price in this city is not widely available."
      ],
      "text/plain": [
       "<IPython.core.display.Markdown object>"
      ]
     },
     "execution_count": 31,
     "metadata": {},
     "output_type": "execute_result"
    }
   ],
   "source": [
    "\n",
    "response = get_completion(params, prompt)\n",
    "\n",
    "IPython.display.Markdown(response.choices[0].text)"
   ]
  },
  {
   "cell_type": "code",
   "execution_count": null,
   "metadata": {},
   "outputs": [],
   "source": []
  }
 ],
 "metadata": {
  "kernelspec": {
   "display_name": ".venv",
   "language": "python",
   "name": "python3"
  },
  "language_info": {
   "codemirror_mode": {
    "name": "ipython",
    "version": 3
   },
   "file_extension": ".py",
   "mimetype": "text/x-python",
   "name": "python",
   "nbconvert_exporter": "python",
   "pygments_lexer": "ipython3",
   "version": "3.9.13"
  },
  "orig_nbformat": 4
 },
 "nbformat": 4,
 "nbformat_minor": 2
}
